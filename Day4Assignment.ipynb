{
  "nbformat": 4,
  "nbformat_minor": 0,
  "metadata": {
    "colab": {
      "name": "Day4Assignment.ipynb",
      "provenance": [],
      "collapsed_sections": []
    },
    "kernelspec": {
      "name": "python3",
      "display_name": "Python 3"
    }
  },
  "cells": [
    {
      "cell_type": "code",
      "metadata": {
        "id": "25zqJkBvdJjZ",
        "colab_type": "code",
        "colab": {}
      },
      "source": [
        "#Assignment1 Day 4\n",
        "#print the first Armstrong number in the rane of 1042000 to 702648265 and exit the loop as soon you encounter the first armstrong number Use While loop"
      ],
      "execution_count": 4,
      "outputs": []
    },
    {
      "cell_type": "code",
      "metadata": {
        "id": "T9m86la8cv1u",
        "colab_type": "code",
        "colab": {
          "base_uri": "https://localhost:8080/",
          "height": 34
        },
        "outputId": "1c164515-f72f-4c9e-c184-7242065eb563"
      },
      "source": [
        "x=1042000\n",
        "while x <702648265:\n",
        "    order = len(str(x))\n",
        "    sum = 0\n",
        "    temp = x\n",
        "    while temp > 0:\n",
        "        digit = temp % 10\n",
        "        sum =sum+ digit ** order\n",
        "        temp =temp// 10\n",
        "\n",
        "    if x == sum:\n",
        "        print(\"The First Armstrong Number is : \", x)\n",
        "        break\n",
        "    x = x+1"
      ],
      "execution_count": 8,
      "outputs": [
        {
          "output_type": "stream",
          "text": [
            "The First Armstrong Number is :  1741725\n"
          ],
          "name": "stdout"
        }
      ]
    }
  ]
}