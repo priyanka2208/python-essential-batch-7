{
  "nbformat": 4,
  "nbformat_minor": 0,
  "metadata": {
    "colab": {
      "name": "Day8Assignment.ipynb",
      "provenance": []
    },
    "kernelspec": {
      "name": "python3",
      "display_name": "Python 3"
    }
  },
  "cells": [
    {
      "cell_type": "code",
      "metadata": {
        "id": "LINr3SFwYReN",
        "colab_type": "code",
        "colab": {}
      },
      "source": [
        "mylist=[]\n",
        "def getInput(calculate_arg_fun):\n",
        "    def function():\n",
        "        print(\" enter two numbers =\")\n",
        "        a = int(input(\"Enter your number1- \"))\n",
        "        b = int(input(\"Enter your number2 - \"))\n",
        "        for i in range(a,b):\n",
        "            calculate_arg_fun(i)   \n",
        "    return function"
      ],
      "execution_count": 7,
      "outputs": []
    },
    {
      "cell_type": "code",
      "metadata": {
        "id": "OmCFJav5bYMD",
        "colab_type": "code",
        "colab": {}
      },
      "source": [
        "@getInput\n",
        "def prime(num):\n",
        "    check = 0\n",
        "    for y in range(2,num):\n",
        "        if num%y == 0 :\n",
        "            check+=1\n",
        "    if check==0 and num != 1:\n",
        "        mylist.append(num)"
      ],
      "execution_count": 10,
      "outputs": []
    },
    {
      "cell_type": "code",
      "metadata": {
        "id": "BjHA8hJKbeV3",
        "colab_type": "code",
        "colab": {
          "base_uri": "https://localhost:8080/",
          "height": 67
        },
        "outputId": "0aa82fdb-49a8-4792-db54-358014b93f2d"
      },
      "source": [
        "prime()"
      ],
      "execution_count": 11,
      "outputs": [
        {
          "output_type": "stream",
          "text": [
            " enter two numbers =\n",
            "Enter your number1- 1\n",
            "Enter your number2 - 399\n"
          ],
          "name": "stdout"
        }
      ]
    },
    {
      "cell_type": "code",
      "metadata": {
        "id": "0TwCJW_4cYcx",
        "colab_type": "code",
        "colab": {
          "base_uri": "https://localhost:8080/",
          "height": 54
        },
        "outputId": "1ed98d88-46ec-41a3-9b94-28666e4b8c04"
      },
      "source": [
        "print(mylist)"
      ],
      "execution_count": 12,
      "outputs": [
        {
          "output_type": "stream",
          "text": [
            "[2, 3, 5, 7, 11, 13, 17, 19, 23, 29, 31, 37, 41, 43, 47, 53, 59, 61, 67, 71, 73, 79, 83, 89, 97, 101, 103, 107, 109, 113, 127, 131, 137, 139, 149, 151, 157, 163, 167, 173, 179, 181, 191, 193, 197, 199, 211, 223, 227, 229, 233, 239, 241, 251, 257, 263, 269, 271, 277, 281, 283, 293, 307, 311, 313, 317, 331, 337, 347, 349, 353, 359, 367, 373, 379, 383, 389, 397]\n"
          ],
          "name": "stdout"
        }
      ]
    },
    {
      "cell_type": "code",
      "metadata": {
        "id": "sJs8Yguhczvs",
        "colab_type": "code",
        "colab": {}
      },
      "source": [
        "f = open(\"letuprade.txt\",'w')\n",
        "f.write(\"hey hello every one\")\n",
        "f.close()"
      ],
      "execution_count": 15,
      "outputs": []
    },
    {
      "cell_type": "code",
      "metadata": {
        "id": "r-Cw5pgweUZI",
        "colab_type": "code",
        "colab": {
          "base_uri": "https://localhost:8080/",
          "height": 35
        },
        "outputId": "3c2ff3c4-f201-44c3-978b-b1b369a1a8ee"
      },
      "source": [
        "f=open(\"letuprade.txt\",'r')\n",
        "f.read()"
      ],
      "execution_count": 17,
      "outputs": [
        {
          "output_type": "execute_result",
          "data": {
            "application/vnd.google.colaboratory.intrinsic+json": {
              "type": "string"
            },
            "text/plain": [
              "'hey hello every one'"
            ]
          },
          "metadata": {
            "tags": []
          },
          "execution_count": 17
        }
      ]
    },
    {
      "cell_type": "code",
      "metadata": {
        "id": "kLZ_bZsJemDQ",
        "colab_type": "code",
        "colab": {
          "base_uri": "https://localhost:8080/",
          "height": 34
        },
        "outputId": "e9eae1a3-a39a-44fc-acaf-4875551ccd25"
      },
      "source": [
        "try:\n",
        "  f.write(\"hello\")\n",
        "except:\n",
        "  print(\"unable to write in read mode\")\n",
        "finally:\n",
        "  f.close()"
      ],
      "execution_count": 18,
      "outputs": [
        {
          "output_type": "stream",
          "text": [
            "unable to write in read mode\n"
          ],
          "name": "stdout"
        }
      ]
    }
  ]
}