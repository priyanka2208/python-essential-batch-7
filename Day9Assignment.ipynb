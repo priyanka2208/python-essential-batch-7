{
  "nbformat": 4,
  "nbformat_minor": 0,
  "metadata": {
    "colab": {
      "name": "Day9Assignment.ipynb",
      "provenance": []
    },
    "kernelspec": {
      "name": "python3",
      "display_name": "Python 3"
    }
  },
  "cells": [
    {
      "cell_type": "code",
      "metadata": {
        "id": "SeF9QxkJg8Dy",
        "colab_type": "code",
        "colab": {
          "base_uri": "https://localhost:8080/",
          "height": 406
        },
        "outputId": "bd6c36db-e55b-4cc4-a742-d8877ba442fe"
      },
      "source": [
        "pip install pylint"
      ],
      "execution_count": 3,
      "outputs": [
        {
          "output_type": "stream",
          "text": [
            "Collecting pylint\n",
            "\u001b[?25l  Downloading https://files.pythonhosted.org/packages/fb/13/519c1264a134beab2be4bac8dd3e64948980a5ca7833b31cf0255b21f20a/pylint-2.6.0-py3-none-any.whl (325kB)\n",
            "\u001b[K     |████████████████████████████████| 327kB 2.7MB/s \n",
            "\u001b[?25hRequirement already satisfied: toml>=0.7.1 in /usr/local/lib/python3.6/dist-packages (from pylint) (0.10.1)\n",
            "Collecting isort<6,>=4.2.5\n",
            "\u001b[?25l  Downloading https://files.pythonhosted.org/packages/d1/25/7ed95ccb07d3ce52598f5a57d002da6a18074ea8749991b10936cc20e539/isort-5.5.2-py3-none-any.whl (95kB)\n",
            "\u001b[K     |████████████████████████████████| 102kB 5.8MB/s \n",
            "\u001b[?25hCollecting mccabe<0.7,>=0.6\n",
            "  Downloading https://files.pythonhosted.org/packages/87/89/479dc97e18549e21354893e4ee4ef36db1d237534982482c3681ee6e7b57/mccabe-0.6.1-py2.py3-none-any.whl\n",
            "Collecting astroid<=2.5,>=2.4.0\n",
            "\u001b[?25l  Downloading https://files.pythonhosted.org/packages/24/a8/5133f51967fb21e46ee50831c3f5dda49e976b7f915408d670b1603d41d6/astroid-2.4.2-py3-none-any.whl (213kB)\n",
            "\u001b[K     |████████████████████████████████| 215kB 7.8MB/s \n",
            "\u001b[?25hCollecting typed-ast<1.5,>=1.4.0; implementation_name == \"cpython\" and python_version < \"3.8\"\n",
            "\u001b[?25l  Downloading https://files.pythonhosted.org/packages/90/ed/5459080d95eb87a02fe860d447197be63b6e2b5e9ff73c2b0a85622994f4/typed_ast-1.4.1-cp36-cp36m-manylinux1_x86_64.whl (737kB)\n",
            "\u001b[K     |████████████████████████████████| 747kB 11.5MB/s \n",
            "\u001b[?25hCollecting lazy-object-proxy==1.4.*\n",
            "\u001b[?25l  Downloading https://files.pythonhosted.org/packages/0b/dd/b1e3407e9e6913cf178e506cd0dee818e58694d9a5cd1984e3f6a8b9a10f/lazy_object_proxy-1.4.3-cp36-cp36m-manylinux1_x86_64.whl (55kB)\n",
            "\u001b[K     |████████████████████████████████| 61kB 6.2MB/s \n",
            "\u001b[?25hRequirement already satisfied: wrapt~=1.11 in /usr/local/lib/python3.6/dist-packages (from astroid<=2.5,>=2.4.0->pylint) (1.12.1)\n",
            "Requirement already satisfied: six~=1.12 in /usr/local/lib/python3.6/dist-packages (from astroid<=2.5,>=2.4.0->pylint) (1.15.0)\n",
            "Installing collected packages: isort, mccabe, typed-ast, lazy-object-proxy, astroid, pylint\n",
            "Successfully installed astroid-2.4.2 isort-5.5.2 lazy-object-proxy-1.4.3 mccabe-0.6.1 pylint-2.6.0 typed-ast-1.4.1\n"
          ],
          "name": "stdout"
        }
      ]
    },
    {
      "cell_type": "code",
      "metadata": {
        "id": "Ez6LIPrHgOp6",
        "colab_type": "code",
        "colab": {
          "base_uri": "https://localhost:8080/",
          "height": 34
        },
        "outputId": "46d4cfa6-ec9a-460f-9ca0-5031ea8e24bb"
      },
      "source": [
        "%%writefile check_prime_number.py\n",
        "'''\n",
        "This is a module to check weather the given number is even or odd.''\n",
        "'''\n",
        "def prime(num):\n",
        "    '''\n",
        "    This is the main function which check out the given number is even or odd.\n",
        "    '''\n",
        "    if num > 1:\n",
        "        for i in range(2, num):\n",
        "            if (num % i) == 0:\n",
        "                break\n",
        "            return print(\"It is a Prime Number\")\n",
        "    return print(\"It is not a Prime Number\")\n",
        "n = int(input(\"enter the number :\"))\n",
        "prime(n)"
      ],
      "execution_count": 4,
      "outputs": [
        {
          "output_type": "stream",
          "text": [
            "Overwriting check_prime_number.py\n"
          ],
          "name": "stdout"
        }
      ]
    },
    {
      "cell_type": "code",
      "metadata": {
        "id": "oZ_Wb_87gvQu",
        "colab_type": "code",
        "colab": {
          "base_uri": "https://localhost:8080/",
          "height": 118
        },
        "outputId": "b1202331-1ac2-4fd9-a6de-a36a32530832"
      },
      "source": [
        "! pylint \"check_prime_number.py\""
      ],
      "execution_count": 7,
      "outputs": [
        {
          "output_type": "stream",
          "text": [
            "************* Module check_prime_number\n",
            "check_prime_number.py:15:0: C0304: Final newline missing (missing-final-newline)\n",
            "\n",
            "------------------------------------------------------------------\n",
            "Your code has been rated at 8.89/10 (previous run: 8.89/10, +0.00)\n",
            "\n"
          ],
          "name": "stdout"
        }
      ]
    },
    {
      "cell_type": "code",
      "metadata": {
        "id": "DOmQwBsZhgmJ",
        "colab_type": "code",
        "colab": {
          "base_uri": "https://localhost:8080/",
          "height": 323
        },
        "outputId": "83bd8f99-3381-41b4-840d-6a1ac9dd4dd0"
      },
      "source": [
        "! pip install unittest2"
      ],
      "execution_count": 10,
      "outputs": [
        {
          "output_type": "stream",
          "text": [
            "Collecting unittest2\n",
            "\u001b[?25l  Downloading https://files.pythonhosted.org/packages/72/20/7f0f433060a962200b7272b8c12ba90ef5b903e218174301d0abfd523813/unittest2-1.1.0-py2.py3-none-any.whl (96kB)\n",
            "\r\u001b[K     |███▍                            | 10kB 17.1MB/s eta 0:00:01\r\u001b[K     |██████▉                         | 20kB 1.7MB/s eta 0:00:01\r\u001b[K     |██████████▏                     | 30kB 2.3MB/s eta 0:00:01\r\u001b[K     |█████████████▋                  | 40kB 2.6MB/s eta 0:00:01\r\u001b[K     |█████████████████               | 51kB 2.0MB/s eta 0:00:01\r\u001b[K     |████████████████████▍           | 61kB 2.2MB/s eta 0:00:01\r\u001b[K     |███████████████████████▉        | 71kB 2.5MB/s eta 0:00:01\r\u001b[K     |███████████████████████████▏    | 81kB 2.7MB/s eta 0:00:01\r\u001b[K     |██████████████████████████████▋ | 92kB 2.9MB/s eta 0:00:01\r\u001b[K     |████████████████████████████████| 102kB 2.6MB/s \n",
            "\u001b[?25hCollecting traceback2\n",
            "  Downloading https://files.pythonhosted.org/packages/17/0a/6ac05a3723017a967193456a2efa0aa9ac4b51456891af1e2353bb9de21e/traceback2-1.4.0-py2.py3-none-any.whl\n",
            "Collecting argparse\n",
            "  Downloading https://files.pythonhosted.org/packages/f2/94/3af39d34be01a24a6e65433d19e107099374224905f1e0cc6bbe1fd22a2f/argparse-1.4.0-py2.py3-none-any.whl\n",
            "Requirement already satisfied: six>=1.4 in /usr/local/lib/python3.6/dist-packages (from unittest2) (1.15.0)\n",
            "Collecting linecache2\n",
            "  Downloading https://files.pythonhosted.org/packages/c7/a3/c5da2a44c85bfbb6eebcfc1dde24933f8704441b98fdde6528f4831757a6/linecache2-1.0.0-py2.py3-none-any.whl\n",
            "Installing collected packages: linecache2, traceback2, argparse, unittest2\n",
            "Successfully installed argparse-1.4.0 linecache2-1.0.0 traceback2-1.4.0 unittest2-1.1.0\n"
          ],
          "name": "stdout"
        },
        {
          "output_type": "display_data",
          "data": {
            "application/vnd.colab-display-data+json": {
              "pip_warning": {
                "packages": [
                  "argparse"
                ]
              }
            }
          },
          "metadata": {
            "tags": []
          }
        }
      ]
    },
    {
      "cell_type": "code",
      "metadata": {
        "id": "q40kLQ0bgPwv",
        "colab_type": "code",
        "colab": {
          "base_uri": "https://localhost:8080/",
          "height": 34
        },
        "outputId": "2c12bef3-d123-4702-c639-301fcb6ba8e9"
      },
      "source": [
        "%%writefile capitalizeText.py\n",
        "\n",
        "def capText(string_To_Cap):\n",
        "    return string_To_Cap.title()"
      ],
      "execution_count": 11,
      "outputs": [
        {
          "output_type": "stream",
          "text": [
            "Overwriting capitalizeText.py\n"
          ],
          "name": "stdout"
        }
      ]
    },
    {
      "cell_type": "code",
      "metadata": {
        "id": "Cify0UiMgP8t",
        "colab_type": "code",
        "colab": {
          "base_uri": "https://localhost:8080/",
          "height": 34
        },
        "outputId": "82ab375f-2b79-4b35-c328-3dda030aa198"
      },
      "source": [
        "%%writefile test.py\n",
        "'''\n",
        "this is the test file in which we are going to check out the py file with the help of unittest\n",
        "'''\n",
        "import unittest\n",
        "import capitalizeText\n",
        "\n",
        "class testPrimeNumber(unittest.TestCase):\n",
        "    def testOne(self):\n",
        "        result = capitalizeText.capText(\"anmol noor\")\n",
        "        self.assertEqual(result,\"Anmol Noor\") \n",
        "    def testSecond(self):\n",
        "        result = capitalizeText.capText(\"this is a text string to test the unittest on a file\")\n",
        "        self.assertEqual(result,\"This Is A Text String To Test The Unittest On A File\")\n",
        "        \n",
        "if __name__ == \"__main__\":\n",
        "    unittest.main()"
      ],
      "execution_count": 12,
      "outputs": [
        {
          "output_type": "stream",
          "text": [
            "Overwriting test.py\n"
          ],
          "name": "stdout"
        }
      ]
    },
    {
      "cell_type": "code",
      "metadata": {
        "id": "DeBl3NOZgQF3",
        "colab_type": "code",
        "colab": {
          "base_uri": "https://localhost:8080/",
          "height": 101
        },
        "outputId": "80c238e0-f131-489b-f125-3a37c024c281"
      },
      "source": [
        "! python test.py"
      ],
      "execution_count": 14,
      "outputs": [
        {
          "output_type": "stream",
          "text": [
            "..\n",
            "----------------------------------------------------------------------\n",
            "Ran 2 tests in 0.000s\n",
            "\n",
            "OK\n"
          ],
          "name": "stdout"
        }
      ]
    },
    {
      "cell_type": "code",
      "metadata": {
        "id": "rlJsLtfqfUQ2",
        "colab_type": "code",
        "colab": {}
      },
      "source": [
        "def armstrong(num):\n",
        "    for x in range(1,num):\n",
        "        if x>10:\n",
        "            order = len(str(x))\n",
        "            sum = 0\n",
        "\n",
        "            temp = x\n",
        "            while temp > 0:\n",
        "                digit = temp % 10\n",
        "                sum += digit ** order\n",
        "                temp //= 10\n",
        "\n",
        "            if x == sum:\n",
        "                yield print(\"The First Armstrong Nubmer is : \", x)"
      ],
      "execution_count": 15,
      "outputs": []
    },
    {
      "cell_type": "code",
      "metadata": {
        "id": "ibXKf2YbfCmC",
        "colab_type": "code",
        "colab": {
          "base_uri": "https://localhost:8080/",
          "height": 84
        },
        "outputId": "a5537eab-eb22-4575-8cb0-e159ffd83785"
      },
      "source": [
        "lst = list(armstrong(1000))"
      ],
      "execution_count": 16,
      "outputs": [
        {
          "output_type": "stream",
          "text": [
            "The First Armstrong Nubmer is :  153\n",
            "The First Armstrong Nubmer is :  370\n",
            "The First Armstrong Nubmer is :  371\n",
            "The First Armstrong Nubmer is :  407\n"
          ],
          "name": "stdout"
        }
      ]
    }
  ]
}