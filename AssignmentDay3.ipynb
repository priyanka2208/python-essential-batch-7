{
  "nbformat": 4,
  "nbformat_minor": 0,
  "metadata": {
    "colab": {
      "name": "AssignmentDay3.ipynb",
      "provenance": [],
      "collapsed_sections": []
    },
    "kernelspec": {
      "name": "python3",
      "display_name": "Python 3"
    }
  },
  "cells": [
    {
      "cell_type": "code",
      "metadata": {
        "id": "8dj7cjixSii5",
        "colab_type": "code",
        "colab": {}
      },
      "source": [
        "#Assignment 1\n",
        "#you all are pilots you have to land a plane the altitude required for landing a plane is 1000ft,if it is less than that tell pilot to land the plane or it is more than that but less than 5000ft  ask the pilot to come down to 1000ft else if it is more than 5000ft ask the pilot to go around and try later"
      ],
      "execution_count": 33,
      "outputs": []
    },
    {
      "cell_type": "code",
      "metadata": {
        "id": "B8r3yesGSkl8",
        "colab_type": "code",
        "colab": {
          "base_uri": "https://localhost:8080/",
          "height": 50
        },
        "outputId": "50b31643-90b9-4208-e592-ada71e10efe5"
      },
      "source": [
        "a=int(input(\"input:\"))\n",
        "if a<=1000:\n",
        "  print(\"Safe to land\")\n",
        "elif  a<=5000:\n",
        "  print(\"Bring down to 1000\")\n",
        "else:\n",
        "  print(\"Turn Around\")"
      ],
      "execution_count": 34,
      "outputs": [
        {
          "output_type": "stream",
          "text": [
            "input:1000\n",
            "Safe to land\n"
          ],
          "name": "stdout"
        }
      ]
    },
    {
      "cell_type": "code",
      "metadata": {
        "id": "pwOx5p2HZyCK",
        "colab_type": "code",
        "colab": {
          "base_uri": "https://localhost:8080/",
          "height": 50
        },
        "outputId": "df450175-be92-4e25-e93a-1785905acece"
      },
      "source": [
        "a=int(input(\"input:\"))\n",
        "if a<=1000:\n",
        "  print(\"Safe to land\")\n",
        "elif  a<=5000:\n",
        "  print(\"Bring down to 1000\")\n",
        "else:\n",
        "  print(\"Turn Around\")"
      ],
      "execution_count": 35,
      "outputs": [
        {
          "output_type": "stream",
          "text": [
            "input:4500\n",
            "Bring down to 1000\n"
          ],
          "name": "stdout"
        }
      ]
    },
    {
      "cell_type": "code",
      "metadata": {
        "id": "zMbsiISpZ3t6",
        "colab_type": "code",
        "colab": {
          "base_uri": "https://localhost:8080/",
          "height": 50
        },
        "outputId": "2fa0d8b6-516d-4eec-e313-d5abcfeac10e"
      },
      "source": [
        "a=int(input(\"input:\"))\n",
        "if a<=1000:\n",
        "  print(\"Safe to land\")\n",
        "elif  a<=5000:\n",
        "  print(\"Bring down to 1000\")\n",
        "else:\n",
        "  print(\"Turn Around\")"
      ],
      "execution_count": 36,
      "outputs": [
        {
          "output_type": "stream",
          "text": [
            "input:6500\n",
            "Turn Around\n"
          ],
          "name": "stdout"
        }
      ]
    },
    {
      "cell_type": "code",
      "metadata": {
        "id": "UFTU3nP7R6Xy",
        "colab_type": "code",
        "colab": {}
      },
      "source": [
        "#Assignment 2 \n",
        "#using for loop please print all the prime numbers between 1-200 using FOR LOOP and RANGE function"
      ],
      "execution_count": null,
      "outputs": []
    },
    {
      "cell_type": "code",
      "metadata": {
        "id": "p82sPdZ82uIz",
        "colab_type": "code",
        "colab": {
          "base_uri": "https://localhost:8080/",
          "height": 54
        },
        "outputId": "52655bc8-00e8-45ae-f594-6278d6cfbf1d"
      },
      "source": [
        "for Number in range (1, 200):\n",
        "    count = 0\n",
        "    for i in range(2, (Number//2 + 1)):\n",
        "        if(Number % i == 0):\n",
        "            count = count + 1\n",
        "            break\n",
        "\n",
        "    if (count == 0 and Number != 1):\n",
        "        print(\" %d\" %Number, end = '  ')\n"
      ],
      "execution_count": 24,
      "outputs": [
        {
          "output_type": "stream",
          "text": [
            " 2   3   5   7   11   13   17   19   23   29   31   37   41   43   47   53   59   61   67   71   73   79   83   89   97   101   103   107   109   113   127   131   137   139   149   151   157   163   167   173   179   181   191   193   197   199  "
          ],
          "name": "stdout"
        }
      ]
    }
  ]
}