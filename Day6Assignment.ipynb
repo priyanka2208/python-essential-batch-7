{
  "nbformat": 4,
  "nbformat_minor": 0,
  "metadata": {
    "colab": {
      "name": "Day6Assignment.ipynb",
      "provenance": []
    },
    "kernelspec": {
      "name": "python3",
      "display_name": "Python 3"
    }
  },
  "cells": [
    {
      "cell_type": "code",
      "metadata": {
        "id": "pQbaJoRfXuYq",
        "colab_type": "code",
        "colab": {}
      },
      "source": [
        "#Assignment 1"
      ],
      "execution_count": null,
      "outputs": []
    },
    {
      "cell_type": "code",
      "metadata": {
        "id": "dUUvS3AMTxcT",
        "colab_type": "code",
        "colab": {}
      },
      "source": [
        "class bankAccount:\n",
        "    def __init__(self,ownername,balance):\n",
        "        self.ownername = ownername\n",
        "        self.balance = balance\n",
        "\n",
        "    def deposit(self,amount):\n",
        "        self.balance +=amount\n",
        "        print(\"your  balance is :\", self.balance)\n",
        "        \n",
        "    def withdraw(self,amount):\n",
        "        if(self.balance>amount):\n",
        "            self.balance-=amount\n",
        "            print(\"your balance is :\", self.balance)\n",
        "        else:\n",
        "            print(\"you don't have enough credit in your account\",self.balance)"
      ],
      "execution_count": 7,
      "outputs": []
    },
    {
      "cell_type": "code",
      "metadata": {
        "id": "BonPZt0oVFDL",
        "colab_type": "code",
        "colab": {
          "base_uri": "https://localhost:8080/",
          "height": 34
        },
        "outputId": "ae33dec2-a008-4a0d-9b60-cf977486c6a2"
      },
      "source": [
        "detail=bankAccount(\"priyanka\",50000)\n",
        "detail.deposit(6000)"
      ],
      "execution_count": 8,
      "outputs": [
        {
          "output_type": "stream",
          "text": [
            "your  balance is : 56000\n"
          ],
          "name": "stdout"
        }
      ]
    },
    {
      "cell_type": "code",
      "metadata": {
        "id": "g6MNNO-qWSI9",
        "colab_type": "code",
        "colab": {
          "base_uri": "https://localhost:8080/",
          "height": 34
        },
        "outputId": "1de4a658-0b2e-47b9-adfa-530a8c6c2458"
      },
      "source": [
        "detail.withdraw(40000)"
      ],
      "execution_count": 9,
      "outputs": [
        {
          "output_type": "stream",
          "text": [
            "your balance is : 16000\n"
          ],
          "name": "stdout"
        }
      ]
    },
    {
      "cell_type": "code",
      "metadata": {
        "id": "ilnsvohqWhYf",
        "colab_type": "code",
        "colab": {
          "base_uri": "https://localhost:8080/",
          "height": 34
        },
        "outputId": "3c6bdbf2-e97d-430c-8a9d-f2b934b4b44b"
      },
      "source": [
        "detail.withdraw(40000)"
      ],
      "execution_count": 10,
      "outputs": [
        {
          "output_type": "stream",
          "text": [
            "you don't have enough credit in your account 16000\n"
          ],
          "name": "stdout"
        }
      ]
    },
    {
      "cell_type": "code",
      "metadata": {
        "id": "CEw0eQiiX33B",
        "colab_type": "code",
        "colab": {}
      },
      "source": [
        "#Assignment 2"
      ],
      "execution_count": null,
      "outputs": []
    },
    {
      "cell_type": "code",
      "metadata": {
        "id": "iqLOTE1SWqBa",
        "colab_type": "code",
        "colab": {}
      },
      "source": [
        "import math\n",
        "class Cone:\n",
        "    def __init__(self,radius,height):\n",
        "        self.radius=radius\n",
        "        self.height=height\n",
        "        \n",
        "    def volume(self):\n",
        "        vol = math.pi * (self.radius**2) * (self.height/3)\n",
        "        print(\"Volume of the cone is : \",vol)\n",
        "        \n",
        "    def surfaceArea(self):\n",
        "        area = math.pi* self.radius *(self.radius+(math.sqrt((self.radius**2)+(self.height**2))))\n",
        "        print(\"Surface area of the cone is \",area)"
      ],
      "execution_count": 11,
      "outputs": []
    },
    {
      "cell_type": "code",
      "metadata": {
        "id": "FwnQRJE9XA9i",
        "colab_type": "code",
        "colab": {}
      },
      "source": [
        "attribute=Cone(4,8)"
      ],
      "execution_count": 12,
      "outputs": []
    },
    {
      "cell_type": "code",
      "metadata": {
        "id": "c_GgEy1XXVm8",
        "colab_type": "code",
        "colab": {
          "base_uri": "https://localhost:8080/",
          "height": 34
        },
        "outputId": "49e9cbe4-59d5-4a08-9f3e-77442922c99f"
      },
      "source": [
        "attribute.volume()"
      ],
      "execution_count": 13,
      "outputs": [
        {
          "output_type": "stream",
          "text": [
            "Volume of the cone is :  134.0412865531645\n"
          ],
          "name": "stdout"
        }
      ]
    },
    {
      "cell_type": "code",
      "metadata": {
        "id": "ftL0Aw2dXc67",
        "colab_type": "code",
        "colab": {
          "base_uri": "https://localhost:8080/",
          "height": 34
        },
        "outputId": "6c5068c9-1f67-4ec2-9a09-b237f29ecab6"
      },
      "source": [
        "attribute.surfaceArea()"
      ],
      "execution_count": 14,
      "outputs": [
        {
          "output_type": "stream",
          "text": [
            "Surface area of the cone is  162.6625181540883\n"
          ],
          "name": "stdout"
        }
      ]
    }
  ]
}